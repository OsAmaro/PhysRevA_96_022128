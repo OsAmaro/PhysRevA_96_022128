{
 "cells": [
  {
   "cell_type": "markdown",
   "metadata": {},
   "source": [
    "# Figure 8"
   ]
  },
  {
   "cell_type": "code",
   "execution_count": null,
   "metadata": {},
   "outputs": [],
   "source": [
    "\"\"\"\n",
    "blackburn2017 figure 8: positron yield and energy as functions of (E0,I21)\n",
    "\"\"\"\n",
    "# plot a)\n",
    "tau=30;\n",
    "lbd=1;\n",
    "xlst = np.logspace(log10(0.5),log10(5),20);\n",
    "ylst = np.logspace(log10(1),log10(100),20);\n",
    "X,Y = np.meshgrid(xlst,ylst);\n",
    "subplot(1,2,1)\n",
    "colormap(hot)\n",
    "fun = @(E0,I21) Np(E0/m, 0.855*sqrt(I21*1e21/1e18)*lbd, c/(lbd*1e-6)*hbar/e*1e-9, tau*c/(lbd*1e-6)*1e-15);\n",
    "Z = arrayfun(fun, X, Y);\n",
    "contourf(X,Y,log10(Z),'--','ShowText','on');\n",
    "plt.xlim([0.5,5])\n",
    "plt.ylim([1,100])\n",
    "plt.xlabel('$E_0(\\textrm{GeV})$','FontSize', fnt, 'Interpreter','latex')\n",
    "plt.ylabel('$I_0(10^{21} \\textrm{W cm}^{-2})$','FontSize', fnt, 'Interpreter','latex')\n",
    "plt.title('$log_{10}(N_+/N_b)$','FontSize', 1.2*fnt, 'Interpreter','latex')\n",
    "plt.xticks([0.5,1,2,5])\n",
    "plt.yticks([1,5,10,50,100])\n",
    "\n",
    "# plot b)\n",
    "tau=30;\n",
    "lbd=1;\n",
    "xlst = logspace(log10(0.5),log10(5));\n",
    "ylst = logspace(log10(1),log10(100));\n",
    "[X,Y] = meshgrid(xlst,ylst);\n",
    "% plot\n",
    "subplot(1,2,2)\n",
    "fun = @(E0,I21) m*gp(E0/m, 0.855*sqrt(I21*1e21/1e18)*lbd, c/(lbd*1e-6)*hbar/e*1e-9, tau*c/(lbd*1e-6)*1e-15);\n",
    "Z = arrayfun(fun, X, Y);\n",
    "contourf(X,Y,Z,'--','ShowText','on');\n",
    "plt.xscale('log')\n",
    "plt.yscale('log')\n",
    "plt.xlim([0.5,5])\n",
    "plt.ylim([1,100])\n",
    "plt.xlabel('$E_0(\\textrm{GeV})$','FontSize', fnt, 'Interpreter','latex')\n",
    "plt.ylabel('$I_0(10^{21} \\textrm{W cm}^{-2})$','FontSize', fnt, 'Interpreter','latex')\n",
    "plt.title('$\\gamma_+(E_0,I_{21})$','FontSize', fnt, 'Interpreter','latex')\n",
    "plt.xticks([0.5,1,2,5])\n",
    "plt.yticks([1,5,10,50,100])"
   ]
  },
  {
   "cell_type": "code",
   "execution_count": null,
   "metadata": {},
   "outputs": [],
   "source": []
  }
 ],
 "metadata": {
  "kernelspec": {
   "display_name": "Python 3",
   "language": "python",
   "name": "python3"
  },
  "language_info": {
   "codemirror_mode": {
    "name": "ipython",
    "version": 3
   },
   "file_extension": ".py",
   "mimetype": "text/x-python",
   "name": "python",
   "nbconvert_exporter": "python",
   "pygments_lexer": "ipython3",
   "version": "3.8.5"
  }
 },
 "nbformat": 4,
 "nbformat_minor": 4
}
