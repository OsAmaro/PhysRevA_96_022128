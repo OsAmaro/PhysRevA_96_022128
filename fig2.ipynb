{
 "cells": [
  {
   "cell_type": "markdown",
   "metadata": {},
   "source": [
    "# PhysRevA.96.022128 - Figure 2\n",
    "Positron number produced in a collision between a beam of $N_\\gamma$ photons with energy $\\omega$"
   ]
  },
  {
   "cell_type": "code",
   "execution_count": 1,
   "metadata": {},
   "outputs": [],
   "source": [
    "# import API\n",
    "import pwpp\n",
    "from pwpp import *"
   ]
  },
  {
   "cell_type": "code",
   "execution_count": 2,
   "metadata": {},
   "outputs": [],
   "source": [
    "epsmaq = 1e-6;\n",
    "\n",
    "def ppm_fun(tau,lbd,I22,w):\n",
    "    return ppm(0.855*sqrt(I22*1e22/1e18)*lbd,2*pi*c/(lbd*1e-6)*hbar/e*1e-9,tau*c/(lbd*1e-6)*1e-15,w);"
   ]
  },
  {
   "cell_type": "code",
   "execution_count": 3,
   "metadata": {},
   "outputs": [],
   "source": [
    "# tau\n",
    "I22 = 2; #[]\n",
    "lbd = 0.8; #[\\mu m]\n",
    "w = 0.1; #[GeV]\n",
    "w0 = 2*pi*c/(lbd*1e-6)*hbar/e*1e-9; # [GeV]\n",
    "a0 = 0.855*sqrt(I22*1e22/1e18)*lbd; # []\n",
    "taulst1 = np.logspace(1,2)\n",
    "taulst2 = np.logspace(1,2,10);\n",
    "Np_tau1 = ppm_fun(taulst1,lbd,I22,w)\n",
    "Np_tau2 = np.zeros(len(taulst2));\n",
    "for k in range(len(taulst2)):\n",
    "    tau = taulst2[k];\n",
    "    n = tau*c/(lbd*1e-6)*1e-15; # []\n",
    "    Ppmk = 0;\n",
    "    phimin = -3*(2*pi**2*n**2)/log(2);\n",
    "    phimax = -phimin;\n",
    "    phidim = int(1e5);\n",
    "    dphi = (phimax-phimin)/phidim;\n",
    "    for i in range(phidim):\n",
    "        phi = phimin + (i-1)*dphi;\n",
    "        chi0 = 2*w*w0*a0/m**2;\n",
    "        chi = max(epsmaq,chi0 * abs(sin(phi)) * exp(-log(2)*phi**2/(2*pi**2*n**2)));\n",
    "        dPpmdphi = alpha * m**2/(2*w0*w) * chi * TErber(chi);\n",
    "        Ppmk = Ppmk + dphi*dPpmdphi;\n",
    "    Np_tau2[k] = Ppmk;"
   ]
  },
  {
   "cell_type": "code",
   "execution_count": 4,
   "metadata": {},
   "outputs": [],
   "source": [
    "# lbd\n",
    "I22 = 2; #[]\n",
    "w = 0.1; #[GeV]\n",
    "tau = 30;#[fs]\n",
    "lbdlst1 = np.logspace(log10(0.1),log10(10),50);\n",
    "lbdlst2 = np.logspace(log10(0.1),log10(10),20);\n",
    "Np_lbd1 = ppm_fun(tau,lbdlst1,I22,w)\n",
    "Np_lbd2 = np.zeros(len(lbdlst2));\n",
    "for k in range(len(lbdlst2)):\n",
    "    lbd = lbdlst2[k];\n",
    "    w0 = 2*pi*c/(lbd*1e-6)*hbar/e*1e-9; # [GeV]\n",
    "    a0 = 0.855*sqrt(I22*1e22/1e18)*lbd; # []\n",
    "    n = tau*c/(lbd*1e-6)*1e-15; # []\n",
    "    Ppmk = 0;\n",
    "    phimin = -3*(2*pi**2*n**2)/log(2);\n",
    "    phimax = -phimin;\n",
    "    phidim = int(1e5);\n",
    "    dphi = (phimax-phimin)/phidim;\n",
    "    for i in range(phidim):\n",
    "        phi = phimin + (i-1)*dphi;\n",
    "        chi0 = 2*w*w0*a0/m**2;\n",
    "        chi = max(epsmaq,chi0 * abs(sin(phi)) * exp(-log(2)*phi**2/(2*pi**2*n**2)));\n",
    "        dPpmdphi = alpha * m**2/(2*w0*w) * chi * TErber(chi);\n",
    "        Ppmk = Ppmk + dphi*dPpmdphi;\n",
    "    Np_lbd2[k] = Ppmk;"
   ]
  },
  {
   "cell_type": "code",
   "execution_count": 5,
   "metadata": {},
   "outputs": [],
   "source": [
    "# I22\n",
    "lbd = 0.8; #[\\mu m]\n",
    "tau = 30; #[fs]\n",
    "w = 0.1; #[GeV]\n",
    "I22lst1 = np.logspace(log10(0.1),log10(10));\n",
    "I22lst2 = np.logspace(log10(0.1),log10(10),10);\n",
    "Np_I221 = ppm_fun(tau,lbd,I22lst1,w)\n",
    "Np_I222 = np.zeros(len(I22lst2));\n",
    "for k in range(len(I22lst2)):\n",
    "    I22 = I22lst2[k];\n",
    "    w0 = 2*pi*c/(lbd*1e-6)*hbar/e*1e-9; # [GeV]\n",
    "    a0 = 0.855*sqrt(I22*1e22/1e18)*lbd; # []\n",
    "    n = tau*c/(lbd*1e-6)*1e-15; # []\n",
    "    dphi = (phimax-phimin)/phidim;\n",
    "    Ppmk = 0;\n",
    "    phimin = -3*(2*pi**2*n**2)/log(2);\n",
    "    phimax = -phimin;\n",
    "    phidim = int(1e5);\n",
    "    dphi = (phimax-phimin)/phidim;\n",
    "    for i in range(phidim):\n",
    "        phi = phimin + (i-1)*dphi;\n",
    "        chi0 = 2*w*w0*a0/m**2;\n",
    "        chi = max(epsmaq,chi0 * abs(sin(phi)) * exp(-log(2)*phi**2/(2*pi**2*n**2)));\n",
    "        dPpmdphi = alpha * m**2/(2*w0*w) * chi * TErber(chi);\n",
    "        Ppmk = Ppmk + dphi*dPpmdphi;\n",
    "    Np_I222[k] = Ppmk;"
   ]
  },
  {
   "cell_type": "code",
   "execution_count": 6,
   "metadata": {},
   "outputs": [],
   "source": [
    "# w\n",
    "I22 = 1; #[]\n",
    "tau = 30; #[fs]\n",
    "lbd = 0.8; #[\\mu m]\n",
    "w0 = 2*pi*c/(lbd*1e-6)*hbar/e*1e-9; # [GeV]\n",
    "a0 = 0.855*sqrt(I22*1e22/1e18)*lbd; # []\n",
    "n = tau*c/(lbd*1e-6)*1e-15; # []\n",
    "wlst1 = np.logspace(log10(0.1),log10(1));\n",
    "wlst2 = np.logspace(log10(0.1),log10(1),10);\n",
    "Np_w1 = ppm_fun(tau,lbd,I22,wlst1)\n",
    "Np_w2 = np.zeros(len(wlst2));\n",
    "for k in range(len(wlst2)):\n",
    "    w = wlst2[k];\n",
    "    Ppmk = 0;\n",
    "    phimin = -3*(2*pi**2*n**2)/log(2);\n",
    "    phimax = -phimin;\n",
    "    phidim = int(1e5);\n",
    "    dphi = (phimax-phimin)/phidim;\n",
    "    for i in range(phidim):\n",
    "        phi = phimin + (i-1)*dphi;\n",
    "        chi0 = 2*w*w0*a0/m**2;\n",
    "        chi = max(epsmaq,chi0 * abs(sin(phi)) * exp(-log(2)*phi**2/(2*pi**2*n**2)));\n",
    "        dPpmdphi = alpha * m**2/(2*w0*w) * chi * TErber(chi);\n",
    "        Ppmk = Ppmk + dphi*dPpmdphi;\n",
    "    Np_w2[k] = Ppmk;"
   ]
  },
  {
   "cell_type": "code",
   "execution_count": 7,
   "metadata": {},
   "outputs": [
    {
     "data": {
      "image/png": "[encoded data removed]",
      "text/plain": [
       "<Figure size 432x432 with 4 Axes>"
      ]
     },
     "metadata": {
      "needs_background": "light"
     },
     "output_type": "display_data"
    }
   ],
   "source": [
    "# plot all\n",
    "fig, axes= plt.subplots(nrows=2, ncols=2,figsize=(6,6))\n",
    "fntsz = 16\n",
    "\n",
    "plt.subplot(2, 2, 1)\n",
    "plt.loglog(taulst1,1e10*Np_tau1,'k-','LineWidth',3)\n",
    "plt.loglog(taulst2,1e10*Np_tau2,'y--','LineWidth',1)\n",
    "plt.xlabel(r'$\\tau[fs]$', size=fntsz)\n",
    "plt.ylabel(r'$10^{10} N_\\pm /N_\\gamma$',size=fntsz)\n",
    "plt.xticks([10,20,50,100]);\n",
    "plt.yticks([0.2,0.5,1]);\n",
    "plt.ylim([0.15,1.5])\n",
    "\n",
    "plt.subplot(2, 2, 2)\n",
    "plt.semilogx(lbdlst1,1e10*Np_lbd1,'k-','LineWidth',3)\n",
    "plt.semilogx(lbdlst2,1e10*Np_lbd2,'y--','LineWidth',1)\n",
    "plt.xlabel('$\\lambda[\\mu m]$', size=fntsz)\n",
    "plt.ylabel('$10^{10} N_\\pm /N_\\gamma$', size=fntsz)\n",
    "plt.xticks([0.1,0.5,1,5,10])\n",
    "plt.yticks([0,0.2,0.4,0.6,0.8])\n",
    "plt.ylim([0,0.8])\n",
    "\n",
    "plt.subplot(2, 2, 3)\n",
    "plt.semilogx(I22lst1,log10(Np_I221),'k-','LineWidth',3)\n",
    "plt.semilogx(I22lst2,log10(Np_I222),'y--','LineWidth',1)\n",
    "plt.xlabel('$I_{22}$', size=fntsz)\n",
    "plt.ylabel('$log_{10}(N_\\pm /N_\\gamma)$', size=fntsz);\n",
    "plt.xticks([0.1,0.5,1,5,10]);\n",
    "plt.yticks([-40,-30,-20,-10,0])\n",
    "plt.ylim([-50,0])\n",
    "\n",
    "plt.subplot(2, 2, 4)\n",
    "plt.semilogx(wlst1*1000,log10(Np_w1),'k-','LineWidth',3)\n",
    "plt.semilogx(wlst2*1000,log10(Np_w2),'y--','LineWidth',1)\n",
    "plt.xlabel('$\\omega[MeV]$', size=fntsz)\n",
    "plt.ylabel('$log_{10}(N_\\pm /N_\\gamma)$', size=fntsz)\n",
    "plt.xticks([100,200,500,1000]);\n",
    "plt.yticks([-15,-10,-5,0]);\n",
    "plt.ylim([-15,0])\n",
    "\n",
    "plt.tight_layout()\n",
    "plt.show()"
   ]
  },
  {
   "cell_type": "code",
   "execution_count": null,
   "metadata": {},
   "outputs": [],
   "source": []
  }
 ],
 "metadata": {
  "kernelspec": {
   "display_name": "Python 3",
   "language": "python",
   "name": "python3"
  },
  "language_info": {
   "codemirror_mode": {
    "name": "ipython",
    "version": 3
   },
   "file_extension": ".py",
   "mimetype": "text/x-python",
   "name": "python",
   "nbconvert_exporter": "python",
   "pygments_lexer": "ipython3",
   "version": "3.7.4"
  }
 },
 "nbformat": 4,
 "nbformat_minor": 4
}
