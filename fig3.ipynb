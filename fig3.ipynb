{
 "cells": [
  {
   "cell_type": "markdown",
   "metadata": {},
   "source": [
    "# Blackburn2017 - Figure 3\n",
    "Critical phase"
   ]
  },
  {
   "cell_type": "code",
   "execution_count": 1,
   "metadata": {},
   "outputs": [],
   "source": [
    "# import API\n",
    "import pwpp\n",
    "from pwpp import *\n",
    "#?phicmod\n",
    "fntsz = 16"
   ]
  },
  {
   "cell_type": "markdown",
   "metadata": {},
   "source": [
    "# Figure 3: critical phase"
   ]
  },
  {
   "cell_type": "code",
   "execution_count": 17,
   "metadata": {},
   "outputs": [
    {
     "data": {
      "image/png": "[encoded data removed]",
      "text/plain": [
       "<Figure size 432x288 with 1 Axes>"
      ]
     },
     "metadata": {
      "needs_background": "light"
     },
     "output_type": "display_data"
    }
   ],
   "source": [
    "# a dashed\n",
    "lbd=0.8;\n",
    "a0=0.855*sqrt(1e23/1e18)*lbd;\n",
    "w0=1.55e-9;\n",
    "n=11.2;\n",
    "glst = np.logspace(3,log10(2e4));\n",
    "def phic2mod(glst):\n",
    "    return [phicmod(g0, a0, w0, n) for g0 in glst];\n",
    "def phic2(glst):\n",
    "    return [phic(g0, a0, w0, n) for g0 in glst];\n",
    "phiclst = phic2mod(glst);\n",
    "plt.semilogx(glst,phiclst,'--',color='#EDB120')\n",
    "#text(3000, phicmod(3000,a0, w0, n), 'a');\n",
    "plt.xlim([1000,2e4])\n",
    "plt.ylim([0,100])\n",
    "plt.xlabel('$\\gamma$',size=fntsz)\n",
    "plt.ylabel('$\\phi_c$',size=fntsz)\n",
    "\n",
    "# a solid\n",
    "lbd=0.8;\n",
    "a0=0.855*sqrt(1e23/1e18)*lbd;\n",
    "w0=1.55e-9;\n",
    "n=11.2;\n",
    "glst = np.logspace(3,log10(2e4));\n",
    "def phic2mod(glst):\n",
    "    return [phicmod(g0, a0, w0, n) for g0 in glst];\n",
    "def phic2(glst):\n",
    "    return [phic(g0, a0, w0, n) for g0 in glst];\n",
    "phiclst = phic2(glst);\n",
    "plt.semilogx(glst,phiclst,'-',color='#EDB120')\n",
    "#text(8000, phic(8000,a0, w0, n), 'a');\n",
    "\n",
    "# b dashed\n",
    "lbd=0.8;\n",
    "a0=0.855*sqrt(1e21/1e18)*lbd;\n",
    "w0=1.55e-9;\n",
    "n=11.2;\n",
    "glst = np.logspace(3,log10(2e4));\n",
    "def phic2mod(glst):\n",
    "    return [phicmod(g0, a0, w0, n) for g0 in glst];\n",
    "def phic2(glst):\n",
    "    return [phic(g0, a0, w0, n) for g0 in glst];\n",
    "phiclst = phic2mod(glst);\n",
    "plt.semilogx(glst,phiclst,'b--')\n",
    "#text(3000, phicmod(3000,a0, w0, n), 'b');\n",
    "\n",
    "# b solid\n",
    "lbd=0.8;\n",
    "a0=0.855*sqrt(1e21/1e18)*lbd;\n",
    "w0=1.55e-9;\n",
    "n=11.2;\n",
    "glst = np.logspace(3,log10(2e4));\n",
    "def phic2mod(glst):\n",
    "    return [phicmod(g0, a0, w0, n) for g0 in glst];\n",
    "def phic2(glst):\n",
    "    return [phic(g0, a0, w0, n) for g0 in glst];\n",
    "phiclst = phic2(glst);\n",
    "plt.semilogx(glst,phiclst,'b-')\n",
    "#text(8000, phic(8000,a0, w0, n), 'b');\n",
    "\n",
    "plt.xticks([1000,2000,5000,10000,20000])\n",
    "plt.yticks([0,20,40,60,80,100])\n",
    "plt.show()"
   ]
  },
  {
   "cell_type": "code",
   "execution_count": null,
   "metadata": {},
   "outputs": [],
   "source": []
  },
  {
   "cell_type": "code",
   "execution_count": null,
   "metadata": {},
   "outputs": [],
   "source": []
  }
 ],
 "metadata": {
  "kernelspec": {
   "display_name": "Python 3",
   "language": "python",
   "name": "python3"
  },
  "language_info": {
   "codemirror_mode": {
    "name": "ipython",
    "version": 3
   },
   "file_extension": ".py",
   "mimetype": "text/x-python",
   "name": "python",
   "nbconvert_exporter": "python",
   "pygments_lexer": "ipython3",
   "version": "3.7.4"
  }
 },
 "nbformat": 4,
 "nbformat_minor": 4
}
