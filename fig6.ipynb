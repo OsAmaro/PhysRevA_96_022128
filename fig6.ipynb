{
 "cells": [
  {
   "cell_type": "markdown",
   "metadata": {},
   "source": [
    "# Blackburn2017 - Figure 6\n",
    "\n",
    "positron number\n",
    "black line is equation 24\n",
    "blue line is the integral P+- dNgdw"
   ]
  },
  {
   "cell_type": "code",
   "execution_count": null,
   "metadata": {},
   "outputs": [],
   "source": [
    "# import API\n",
    "import pwpp\n",
    "from pwpp import *\n",
    "#?phicmod\n",
    "fntsz = 16"
   ]
  },
  {
   "cell_type": "code",
   "execution_count": null,
   "metadata": {},
   "outputs": [],
   "source": [
    "# tau\n",
    "E0 = 1; #[GeV]\n",
    "I21 = 5; #[]\n",
    "lbd = 1; #[\\mu m]\n",
    "taulst = np.logspace(log10(5),log10(100));\n",
    "def fun(tau): return Np(E0/m, 0.855*sqrt(I21*1e21/1e18)*lbd, 2*pi*c/(lbd*1e-6)*hbar/e*1e-9, tau*c/(lbd*1e-6)*1e-15);\n",
    "sadle_tau = fun(taulst);\n",
    "def fun(n): return integral(@(w) ppm(0.855*sqrt(I21*1e21/1e18)*lbd,2*pi*c/(lbd*1e-6)*hbar/e*1e-9,n,w) * dNgdw(E0/m,0.855*sqrt(I21*1e21/1e18)*lbd,2*pi*c/(lbd*1e-6)*hbar/e*1e-9,n,w),0.01,E0);\n",
    "full_tau = fun(taulst*c/(lbd*1e-6)*1e-15);\n",
    "\n",
    "# lbd\n",
    "E0 = 1; #[GeV]\n",
    "I21 = 5; #[]\n",
    "tau = 30; #[fs]\n",
    "lbdlst = np.logspace(log10(0.1),log10(20));\n",
    "def fun(lbd): return Np(E0/m, 0.855*sqrt(I21*1e21/1e18)*lbd, 2*pi*c/(lbd*1e-6)*hbar/e*1e-9, tau*c/(lbd*1e-6)*1e-15);\n",
    "saddle_lbd = fun(lbdlst);\n",
    "def fun(lbd): return integral(@(w) ppm(0.855*sqrt(I21*1e21/1e18)*lbd,2*pi*c/(lbd*1e-6)*hbar/e*1e-9,tau*c/(lbd*1e-6)*1e-15,w) * dNgdw(E0/m,0.855*sqrt(I21*1e21/1e18)*lbd,2*pi*c/(lbd*1e-6)*hbar/e*1e-9,tau*c/(lbd*1e-6)*1e-15,w),0.01,E0);\n",
    "full_lbd = fun(lbdlst);\n",
    "\n",
    "# I21\n",
    "E0 = 1; #[GeV]\n",
    "tau = 30; #[fs]\n",
    "lbd = 1; #[\\mu m]\n",
    "I21lst = np.logspace(log10(1),log10(40));\n",
    "def fun(I21): return Np(E0/m, 0.855*sqrt(I21*1e21/1e18)*lbd, 2*pi*c/(lbd*1e-6)*hbar/e*1e-9, tau*c/(lbd*1e-6)*1e-15);\n",
    "saddle_I21 = fun(I21lst);\n",
    "def fun(I21): return integral(@(w) ppm(0.855*sqrt(I21*1e21/1e18)*lbd,2*pi*c/(lbd*1e-6)*hbar/e*1e-9,tau*c/(lbd*1e-6)*1e-15,w) .* dNgdw(E0/m,0.855*sqrt(I21*1e21/1e18)*lbd,2*pi*c/(lbd*1e-6)*hbar/e*1e-9,tau*c/(lbd*1e-6)*1e-15,w),0.01,E0);\n",
    "full_I21 = fun(I21lst);\n",
    "\n",
    "# E0\n",
    "I21 = 5;\n",
    "tau = 30; #[fs]\n",
    "lbd = 1; #[\\mu m]\n",
    "E0lst = np.logspace(log10(0.5),log10(4));\n",
    "def fun(E0): return Np(E0/m, 0.855*sqrt(I21*1e21/1e18)*lbd, 2*pi*c/(lbd*1e-6)*hbar/e*1e-9, tau*c/(lbd*1e-6)*1e-15);\n",
    "saddle_E0 = fun(E0lst);\n",
    "def fun(E0): return integral(@(w) ppm(0.855*sqrt(I21*1e21/1e18)*lbd,2*pi*c/(lbd*1e-6)*hbar/e*1e-9,tau*c/(lbd*1e-6)*1e-15,w) .* dNgdw(E0/m,0.855*sqrt(I21*1e21/1e18)*lbd,2*pi*c/(lbd*1e-6)*hbar/e*1e-9,tau*c/(lbd*1e-6)*1e-15,w),0.01,E0);\n",
    "full_E0 = fun(E0lst);"
   ]
  },
  {
   "cell_type": "code",
   "execution_count": null,
   "metadata": {},
   "outputs": [],
   "source": [
    "# plot all\n",
    "fig, axes= plt.subplots(nrows=4, ncols=1,figsize=(8,4*4))\n",
    "\n",
    "subplot(2,2,1)\n",
    "plt.semilogx(taulst,1e6*saddle_tau,'k-')\n",
    "plt.semilogx(taulst,1e6*full_tau,'b-')\n",
    "plt.xlim([4,120])\n",
    "plt.ylim([0,5])\n",
    "plt.xlabel('$\\tau[\\textrm{fs}]$',size=fntsz)\n",
    "plt.ylabel('$10^6 N_\\pm /N_e$',size=fntsz)\n",
    "plt.xticks([5,10,50,100])\n",
    "plt.yticks([0,1,2,3,4,5,6])\n",
    "\n",
    "subplot(2,2,2)\n",
    "plt.semilogx(lbdlst,1e6*saddle_lbd,'b-')\n",
    "plt.semilogx(lbdlst,1e6*full_lbd,'k-')\n",
    "plt.xlim([0.1,20])\n",
    "plt.ylim([0,5])\n",
    "plt.xlabel('$\\lambda[\\mu m]$',size=fntsz)\n",
    "plt.ylabel('$10^6 N_\\pm /N_e$',size=fntsz)\n",
    "plt.xticks([0.1,0.5,1,5,10])\n",
    "plt.yticks([0,1,2,3,4,5,6])\n",
    "\n",
    "subplot(2,2,3)\n",
    "plt.semilogx(I21lst,log10(saddle_I21),'k-')\n",
    "plt.semilogx(I21lst,log10(full_I21),'b-')\n",
    "plt.xlim([1,40])\n",
    "plt.ylim([-12,0])\n",
    "plt.xlabel('$I_{21}$',size=fntsz)\n",
    "plt.ylabel('$log_{10}(N_\\pm /N_e)$',size=fntsz)\n",
    "plt.xticks([1,5,10])\n",
    "plt.yticks([-12,-10,-8,-6,-4,-2])\n",
    "\n",
    "subplot(2,2,4)\n",
    "plt.semilogx(E0lst,log10(saddle_E0),'k-')\n",
    "plt.semilogx(E0lst,log10(full_E0),'b-')\n",
    "plt.xlim([0.4,4])\n",
    "plt.ylim([-12,0])\n",
    "plt.xlabel('$E_{0}[GeV]$',size=fntsz)\n",
    "plt.ylabel('$log_{10}(N_\\pm /N_e)$',size=fntsz)\n",
    "plt.xticks([0.5,1,2])\n",
    "plt.yticks([-12,-10,-8,-6,-4,-2])\n",
    "\n",
    "plt.tight_layout()\n",
    "plt.show()"
   ]
  }
 ],
 "metadata": {
  "kernelspec": {
   "display_name": "Python 3",
   "language": "python",
   "name": "python3"
  },
  "language_info": {
   "codemirror_mode": {
    "name": "ipython",
    "version": 3
   },
   "file_extension": ".py",
   "mimetype": "text/x-python",
   "name": "python",
   "nbconvert_exporter": "python",
   "pygments_lexer": "ipython3",
   "version": "3.8.5"
  }
 },
 "nbformat": 4,
 "nbformat_minor": 4
}
